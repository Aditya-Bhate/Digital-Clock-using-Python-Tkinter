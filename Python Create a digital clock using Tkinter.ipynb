{
 "cells": [
  {
   "cell_type": "markdown",
   "metadata": {},
   "source": [
    "# Python | Create a digital clock using Tkinter"
   ]
  },
  {
   "cell_type": "code",
   "execution_count": 2,
   "metadata": {},
   "outputs": [],
   "source": [
    "# importing whole module\n",
    "from tkinter import * \n",
    "from tkinter.ttk import *\n",
    "  \n",
    "# importing strftime function to retrieve system's time\n",
    "from time import strftime\n",
    "  \n",
    "# creating tkinter window\n",
    "root = Tk()\n",
    "root.title('Clock')\n",
    "  \n",
    "# This function is used to  display time on the label \n",
    "def time():\n",
    "    string = strftime('%H:%M:%S %p')\n",
    "    lbl.config(text = string)\n",
    "    lbl.after(1000, time)\n",
    "  \n",
    "# Styling the label widget so that clock will look more attractive \n",
    "lbl = Label(root, font = ('calibri', 40, 'bold'),\n",
    "            background = 'black',\n",
    "            foreground = 'yellow')\n",
    "  \n",
    "# Placing clock at the centre\n",
    "# of the tkinter window\n",
    "lbl.pack(anchor = 'center')\n",
    "time()\n",
    "  \n",
    "mainloop()"
   ]
  },
  {
   "cell_type": "code",
   "execution_count": null,
   "metadata": {},
   "outputs": [],
   "source": []
  }
 ],
 "metadata": {
  "kernelspec": {
   "display_name": "Python 3",
   "language": "python",
   "name": "python3"
  },
  "language_info": {
   "codemirror_mode": {
    "name": "ipython",
    "version": 3
   },
   "file_extension": ".py",
   "mimetype": "text/x-python",
   "name": "python",
   "nbconvert_exporter": "python",
   "pygments_lexer": "ipython3",
   "version": "3.8.8"
  }
 },
 "nbformat": 4,
 "nbformat_minor": 2
}
